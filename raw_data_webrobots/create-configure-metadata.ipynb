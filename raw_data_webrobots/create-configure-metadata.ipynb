{
 "cells": [
  {
   "cell_type": "code",
   "execution_count": 13,
   "metadata": {},
   "outputs": [],
   "source": [
    "import json\n",
    "import numpy as np\n",
    "import pandas as pd\n",
    "import csv\n",
    "# pd.set_option('display.max_columns', None)\n",
    "# pd.set_option('display.max_rows', None)"
   ]
  },
  {
   "cell_type": "code",
   "execution_count": 23,
   "metadata": {},
   "outputs": [
    {
     "data": {
      "text/html": [
       "<div>\n",
       "<style scoped>\n",
       "    .dataframe tbody tr th:only-of-type {\n",
       "        vertical-align: middle;\n",
       "    }\n",
       "\n",
       "    .dataframe tbody tr th {\n",
       "        vertical-align: top;\n",
       "    }\n",
       "\n",
       "    .dataframe thead th {\n",
       "        text-align: right;\n",
       "    }\n",
       "</style>\n",
       "<table border=\"1\" class=\"dataframe\">\n",
       "  <thead>\n",
       "    <tr style=\"text-align: right;\">\n",
       "      <th></th>\n",
       "      <th>desc_clean</th>\n",
       "      <th>desc_len</th>\n",
       "      <th>goal</th>\n",
       "      <th>category_slug</th>\n",
       "      <th>label</th>\n",
       "    </tr>\n",
       "  </thead>\n",
       "  <tbody>\n",
       "    <tr>\n",
       "      <th>0</th>\n",
       "      <td>Zombies. They're a problem that no one wants t...</td>\n",
       "      <td>24</td>\n",
       "      <td>700.0</td>\n",
       "      <td>technology/software</td>\n",
       "      <td>1</td>\n",
       "    </tr>\n",
       "    <tr>\n",
       "      <th>1</th>\n",
       "      <td>What would the pioneers of jazz sound like on ...</td>\n",
       "      <td>23</td>\n",
       "      <td>2000.0</td>\n",
       "      <td>music/jazz</td>\n",
       "      <td>1</td>\n",
       "    </tr>\n",
       "    <tr>\n",
       "      <th>2</th>\n",
       "      <td>Art by the square inch. 1 US dollar = 1 square...</td>\n",
       "      <td>11</td>\n",
       "      <td>400.0</td>\n",
       "      <td>art/conceptual art</td>\n",
       "      <td>1</td>\n",
       "    </tr>\n",
       "    <tr>\n",
       "      <th>3</th>\n",
       "      <td>Three of us are composers, and all of us are p...</td>\n",
       "      <td>29</td>\n",
       "      <td>2000.0</td>\n",
       "      <td>music/electronic music</td>\n",
       "      <td>1</td>\n",
       "    </tr>\n",
       "    <tr>\n",
       "      <th>4</th>\n",
       "      <td>An exploration into statistical displays on Ki...</td>\n",
       "      <td>21</td>\n",
       "      <td>3000.0</td>\n",
       "      <td>design/graphic design</td>\n",
       "      <td>1</td>\n",
       "    </tr>\n",
       "  </tbody>\n",
       "</table>\n",
       "</div>"
      ],
      "text/plain": [
       "                                          desc_clean  desc_len    goal  \\\n",
       "0  Zombies. They're a problem that no one wants t...        24   700.0   \n",
       "1  What would the pioneers of jazz sound like on ...        23  2000.0   \n",
       "2  Art by the square inch. 1 US dollar = 1 square...        11   400.0   \n",
       "3  Three of us are composers, and all of us are p...        29  2000.0   \n",
       "4  An exploration into statistical displays on Ki...        21  3000.0   \n",
       "\n",
       "            category_slug  label  \n",
       "0     technology/software      1  \n",
       "1              music/jazz      1  \n",
       "2      art/conceptual art      1  \n",
       "3  music/electronic music      1  \n",
       "4   design/graphic design      1  "
      ]
     },
     "execution_count": 23,
     "metadata": {},
     "output_type": "execute_result"
    }
   ],
   "source": [
    "dev_df = pd.read_csv('kickstarter_textandmeta_dev.tsv', sep='\\t')\n",
    "dev_df.head()"
   ]
  },
  {
   "cell_type": "markdown",
   "metadata": {},
   "source": [
    "# Tell metadata what the types of the input features. \n",
    "## (kickstarter and indiegogo share the same config)\n",
    "there are commonly 4 types of features:\n",
    "1. numerical features (float and int)\n",
    "2. object features (datetime and categorical)\n",
    "3. boolean features\n",
    "4. text features\n",
    "5. the features you want to drop\n"
   ]
  },
  {
   "cell_type": "code",
   "execution_count": 24,
   "metadata": {},
   "outputs": [
    {
     "data": {
      "text/plain": [
       "Index(['desc_clean', 'desc_len', 'goal', 'category_slug', 'label'], dtype='object')"
      ]
     },
     "execution_count": 24,
     "metadata": {},
     "output_type": "execute_result"
    }
   ],
   "source": [
    "dev_df.columns"
   ]
  },
  {
   "cell_type": "code",
   "execution_count": 25,
   "metadata": {},
   "outputs": [],
   "source": [
    "## the basic configure file doesn't include the text features:\n",
    "\n",
    "metadata = {}\n",
    "metadata['input_features'] = ['desc_clean', 'desc_len', 'goal', 'category_slug']\n",
    "metadata['output_label'] = ['label']\n",
    "metadata['input_text'] = ['desc_clean']\n",
    "metadata['input_float'] = ['goal']\n",
    "metadata['input_int'] = []\n",
    "metadata['input_categorical'] = ['category_slug']\n",
    "metadata['input_datetime'] = []\n",
    "metadata['input_bool'] = []\n",
    "metadata['input_drop'] = []"
   ]
  },
  {
   "cell_type": "code",
   "execution_count": 37,
   "metadata": {},
   "outputs": [],
   "source": [
    "# the config.json is good to use, no need be changed\n",
    "\n",
    "with open('config.json', 'w') as f:\n",
    "    json.dump(metadata, f)"
   ]
  },
  {
   "cell_type": "code",
   "execution_count": 38,
   "metadata": {},
   "outputs": [],
   "source": [
    "# test config file\n",
    "with open('config.json', 'r') as f:\n",
    "    meta = json.load(f)"
   ]
  },
  {
   "cell_type": "code",
   "execution_count": 34,
   "metadata": {},
   "outputs": [
    {
     "data": {
      "text/plain": [
       "['desc_clean']"
      ]
     },
     "execution_count": 34,
     "metadata": {},
     "output_type": "execute_result"
    }
   ],
   "source": [
    "meta['input_text']"
   ]
  },
  {
   "cell_type": "code",
   "execution_count": 35,
   "metadata": {},
   "outputs": [],
   "source": [
    "df_text = dev_df.loc[:,meta['input_text']]"
   ]
  },
  {
   "cell_type": "code",
   "execution_count": 36,
   "metadata": {},
   "outputs": [
    {
     "data": {
      "text/plain": [
       "(7597, 1)"
      ]
     },
     "execution_count": 36,
     "metadata": {},
     "output_type": "execute_result"
    }
   ],
   "source": [
    "df_text.shape"
   ]
  },
  {
   "cell_type": "code",
   "execution_count": null,
   "metadata": {},
   "outputs": [],
   "source": []
  },
  {
   "cell_type": "code",
   "execution_count": null,
   "metadata": {},
   "outputs": [],
   "source": []
  }
 ],
 "metadata": {
  "kernelspec": {
   "display_name": "Python 3",
   "language": "python",
   "name": "python3"
  },
  "language_info": {
   "codemirror_mode": {
    "name": "ipython",
    "version": 3
   },
   "file_extension": ".py",
   "mimetype": "text/x-python",
   "name": "python",
   "nbconvert_exporter": "python",
   "pygments_lexer": "ipython3",
   "version": "3.6.3"
  }
 },
 "nbformat": 4,
 "nbformat_minor": 2
}
