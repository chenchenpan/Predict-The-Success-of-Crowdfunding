{
 "cells": [
  {
   "cell_type": "code",
   "execution_count": 1,
   "metadata": {},
   "outputs": [],
   "source": [
    "import pandas as pd\n",
    "import numpy as np\n",
    "import re\n",
    "from sklearn.utils import shuffle"
   ]
  },
  {
   "cell_type": "code",
   "execution_count": 2,
   "metadata": {
    "scrolled": true
   },
   "outputs": [
    {
     "data": {
      "text/html": [
       "<div>\n",
       "<style scoped>\n",
       "    .dataframe tbody tr th:only-of-type {\n",
       "        vertical-align: middle;\n",
       "    }\n",
       "\n",
       "    .dataframe tbody tr th {\n",
       "        vertical-align: top;\n",
       "    }\n",
       "\n",
       "    .dataframe thead th {\n",
       "        text-align: right;\n",
       "    }\n",
       "</style>\n",
       "<table border=\"1\" class=\"dataframe\">\n",
       "  <thead>\n",
       "    <tr style=\"text-align: right;\">\n",
       "      <th></th>\n",
       "      <th>id</th>\n",
       "      <th>name</th>\n",
       "      <th>blurb</th>\n",
       "      <th>goal</th>\n",
       "      <th>pledged</th>\n",
       "      <th>state</th>\n",
       "      <th>deadline</th>\n",
       "      <th>state_changed_at</th>\n",
       "      <th>created_at</th>\n",
       "      <th>launched_at</th>\n",
       "      <th>country</th>\n",
       "      <th>currency</th>\n",
       "      <th>backers_count</th>\n",
       "      <th>creator_id</th>\n",
       "      <th>project_id</th>\n",
       "      <th>category_id</th>\n",
       "      <th>category_name</th>\n",
       "      <th>category_slug</th>\n",
       "    </tr>\n",
       "  </thead>\n",
       "  <tbody>\n",
       "    <tr>\n",
       "      <th>0</th>\n",
       "      <td>1458932991</td>\n",
       "      <td>Louli à l’école</td>\n",
       "      <td>Un livre enfant pour l’apprentissage des émoti...</td>\n",
       "      <td>600.0</td>\n",
       "      <td>631.00</td>\n",
       "      <td>successful</td>\n",
       "      <td>1566744397</td>\n",
       "      <td>1566744397</td>\n",
       "      <td>1561554849</td>\n",
       "      <td>1561560397</td>\n",
       "      <td>FR</td>\n",
       "      <td>EUR</td>\n",
       "      <td>31</td>\n",
       "      <td>469036700</td>\n",
       "      <td>3761403</td>\n",
       "      <td>46</td>\n",
       "      <td>Children's Books</td>\n",
       "      <td>publishing/children's books</td>\n",
       "    </tr>\n",
       "    <tr>\n",
       "      <th>1</th>\n",
       "      <td>498799566</td>\n",
       "      <td>Strange Wit, an original graphic novel about J...</td>\n",
       "      <td>The true biography of the historical figure, w...</td>\n",
       "      <td>12000.0</td>\n",
       "      <td>14740.63</td>\n",
       "      <td>successful</td>\n",
       "      <td>1442204367</td>\n",
       "      <td>1442204368</td>\n",
       "      <td>1438740713</td>\n",
       "      <td>1439612367</td>\n",
       "      <td>US</td>\n",
       "      <td>USD</td>\n",
       "      <td>403</td>\n",
       "      <td>1695121020</td>\n",
       "      <td>2051485</td>\n",
       "      <td>252</td>\n",
       "      <td>Graphic Novels</td>\n",
       "      <td>comics/graphic novels</td>\n",
       "    </tr>\n",
       "    <tr>\n",
       "      <th>2</th>\n",
       "      <td>1540722298</td>\n",
       "      <td>FAM - FIND A MOTIVE MOBILE APP</td>\n",
       "      <td>FAM is the new mobile app which combines event...</td>\n",
       "      <td>100000.0</td>\n",
       "      <td>11.00</td>\n",
       "      <td>failed</td>\n",
       "      <td>1534607034</td>\n",
       "      <td>1534607034</td>\n",
       "      <td>1528401202</td>\n",
       "      <td>1529423034</td>\n",
       "      <td>GB</td>\n",
       "      <td>GBP</td>\n",
       "      <td>2</td>\n",
       "      <td>67455724</td>\n",
       "      <td>3399670</td>\n",
       "      <td>332</td>\n",
       "      <td>Apps</td>\n",
       "      <td>technology/apps</td>\n",
       "    </tr>\n",
       "    <tr>\n",
       "      <th>3</th>\n",
       "      <td>621087138</td>\n",
       "      <td>Destiny, NY - FINAL HOURS!</td>\n",
       "      <td>A graphic novel about two magical ladies in love.</td>\n",
       "      <td>20000.0</td>\n",
       "      <td>21799.00</td>\n",
       "      <td>successful</td>\n",
       "      <td>1478131200</td>\n",
       "      <td>1478131200</td>\n",
       "      <td>1473150836</td>\n",
       "      <td>1475565730</td>\n",
       "      <td>US</td>\n",
       "      <td>USD</td>\n",
       "      <td>406</td>\n",
       "      <td>248241887</td>\n",
       "      <td>2667503</td>\n",
       "      <td>252</td>\n",
       "      <td>Graphic Novels</td>\n",
       "      <td>comics/graphic novels</td>\n",
       "    </tr>\n",
       "    <tr>\n",
       "      <th>4</th>\n",
       "      <td>1760442719</td>\n",
       "      <td>Publishing Magus Magazine</td>\n",
       "      <td>We are publishing a magazine that focuses on t...</td>\n",
       "      <td>5000.0</td>\n",
       "      <td>10.00</td>\n",
       "      <td>failed</td>\n",
       "      <td>1317747868</td>\n",
       "      <td>1317747868</td>\n",
       "      <td>1310702133</td>\n",
       "      <td>1315155868</td>\n",
       "      <td>US</td>\n",
       "      <td>USD</td>\n",
       "      <td>1</td>\n",
       "      <td>1345074053</td>\n",
       "      <td>43087</td>\n",
       "      <td>49</td>\n",
       "      <td>Periodicals</td>\n",
       "      <td>publishing/periodicals</td>\n",
       "    </tr>\n",
       "  </tbody>\n",
       "</table>\n",
       "</div>"
      ],
      "text/plain": [
       "           id                                               name  \\\n",
       "0  1458932991                                    Louli à l’école   \n",
       "1   498799566  Strange Wit, an original graphic novel about J...   \n",
       "2  1540722298                     FAM - FIND A MOTIVE MOBILE APP   \n",
       "3   621087138                         Destiny, NY - FINAL HOURS!   \n",
       "4  1760442719                          Publishing Magus Magazine   \n",
       "\n",
       "                                               blurb      goal   pledged  \\\n",
       "0  Un livre enfant pour l’apprentissage des émoti...     600.0    631.00   \n",
       "1  The true biography of the historical figure, w...   12000.0  14740.63   \n",
       "2  FAM is the new mobile app which combines event...  100000.0     11.00   \n",
       "3  A graphic novel about two magical ladies in love.   20000.0  21799.00   \n",
       "4  We are publishing a magazine that focuses on t...    5000.0     10.00   \n",
       "\n",
       "        state    deadline  state_changed_at  created_at  launched_at country  \\\n",
       "0  successful  1566744397        1566744397  1561554849   1561560397      FR   \n",
       "1  successful  1442204367        1442204368  1438740713   1439612367      US   \n",
       "2      failed  1534607034        1534607034  1528401202   1529423034      GB   \n",
       "3  successful  1478131200        1478131200  1473150836   1475565730      US   \n",
       "4      failed  1317747868        1317747868  1310702133   1315155868      US   \n",
       "\n",
       "  currency  backers_count  creator_id  project_id  category_id  \\\n",
       "0      EUR             31   469036700     3761403           46   \n",
       "1      USD            403  1695121020     2051485          252   \n",
       "2      GBP              2    67455724     3399670          332   \n",
       "3      USD            406   248241887     2667503          252   \n",
       "4      USD              1  1345074053       43087           49   \n",
       "\n",
       "      category_name                category_slug  \n",
       "0  Children's Books  publishing/children's books  \n",
       "1    Graphic Novels        comics/graphic novels  \n",
       "2              Apps              technology/apps  \n",
       "3    Graphic Novels        comics/graphic novels  \n",
       "4       Periodicals       publishing/periodicals  "
      ]
     },
     "execution_count": 2,
     "metadata": {},
     "output_type": "execute_result"
    }
   ],
   "source": [
    "kdata = pd.read_csv('kickstarter-2019-extracted.csv')\n",
    "kdata.head()"
   ]
  },
  {
   "cell_type": "markdown",
   "metadata": {},
   "source": [
    "## Kickstarter data selection\n",
    "1. explore kickstarter data\n",
    "2. filter the data, only including the 'failed' and 'successful' examples\n",
    "3. remove duplicated examples using project_id\n",
    "4. (optional) create '0'/'1' label\n",
    "5. clean up description, remove '\\n', '\\t', '\\r' in the original description (for BERT)\n",
    "6. add feature: length of the description\n",
    "7. select features and save files."
   ]
  },
  {
   "cell_type": "code",
   "execution_count": 3,
   "metadata": {},
   "outputs": [
    {
     "data": {
      "text/plain": [
       "array(['successful', 'failed', 'canceled', 'live', 'suspended'],\n",
       "      dtype=object)"
      ]
     },
     "execution_count": 3,
     "metadata": {},
     "output_type": "execute_result"
    }
   ],
   "source": [
    "kdata['state'].unique()"
   ]
  },
  {
   "cell_type": "code",
   "execution_count": 4,
   "metadata": {},
   "outputs": [],
   "source": [
    "kdata_ = kdata.loc[(kdata['state'] == 'successful') | (kdata['state'] == 'failed') & (kdata['country'] == 'US')].copy()"
   ]
  },
  {
   "cell_type": "code",
   "execution_count": 5,
   "metadata": {},
   "outputs": [
    {
     "data": {
      "text/plain": [
       "(176288, 18)"
      ]
     },
     "execution_count": 5,
     "metadata": {},
     "output_type": "execute_result"
    }
   ],
   "source": [
    "kdata_.shape"
   ]
  },
  {
   "cell_type": "code",
   "execution_count": 6,
   "metadata": {},
   "outputs": [
    {
     "data": {
      "text/plain": [
       "151943"
      ]
     },
     "execution_count": 6,
     "metadata": {},
     "output_type": "execute_result"
    }
   ],
   "source": [
    "len(kdata_['project_id'].unique())"
   ]
  },
  {
   "cell_type": "code",
   "execution_count": 7,
   "metadata": {},
   "outputs": [],
   "source": [
    "kdata_ = kdata_.sort_values('project_id')"
   ]
  },
  {
   "cell_type": "code",
   "execution_count": 8,
   "metadata": {},
   "outputs": [
    {
     "data": {
      "text/plain": [
       "(151943, 18)"
      ]
     },
     "execution_count": 8,
     "metadata": {},
     "output_type": "execute_result"
    }
   ],
   "source": [
    "kdata_.drop_duplicates(subset='project_id', keep='first', inplace=True)\n",
    "kdata_.shape"
   ]
  },
  {
   "cell_type": "code",
   "execution_count": 9,
   "metadata": {},
   "outputs": [
    {
     "data": {
      "text/plain": [
       "count         151943\n",
       "unique             2\n",
       "top       successful\n",
       "freq          100517\n",
       "Name: state, dtype: object"
      ]
     },
     "execution_count": 9,
     "metadata": {},
     "output_type": "execute_result"
    }
   ],
   "source": [
    "kdata_['state'].describe()"
   ]
  },
  {
   "cell_type": "code",
   "execution_count": 10,
   "metadata": {},
   "outputs": [
    {
     "data": {
      "text/plain": [
       "count    1.519430e+05\n",
       "mean     3.680867e+04\n",
       "std      9.866319e+05\n",
       "min      1.000000e-02\n",
       "25%      1.500000e+03\n",
       "50%      5.000000e+03\n",
       "75%      1.200000e+04\n",
       "max      1.000000e+08\n",
       "Name: goal, dtype: float64"
      ]
     },
     "execution_count": 10,
     "metadata": {},
     "output_type": "execute_result"
    }
   ],
   "source": [
    "kdata_['goal'].describe()"
   ]
  },
  {
   "cell_type": "code",
   "execution_count": 11,
   "metadata": {
    "scrolled": true
   },
   "outputs": [
    {
     "data": {
      "text/html": [
       "<div>\n",
       "<style scoped>\n",
       "    .dataframe tbody tr th:only-of-type {\n",
       "        vertical-align: middle;\n",
       "    }\n",
       "\n",
       "    .dataframe tbody tr th {\n",
       "        vertical-align: top;\n",
       "    }\n",
       "\n",
       "    .dataframe thead th {\n",
       "        text-align: right;\n",
       "    }\n",
       "</style>\n",
       "<table border=\"1\" class=\"dataframe\">\n",
       "  <thead>\n",
       "    <tr style=\"text-align: right;\">\n",
       "      <th></th>\n",
       "      <th>id</th>\n",
       "      <th>name</th>\n",
       "      <th>blurb</th>\n",
       "      <th>goal</th>\n",
       "      <th>pledged</th>\n",
       "      <th>state</th>\n",
       "      <th>deadline</th>\n",
       "      <th>state_changed_at</th>\n",
       "      <th>created_at</th>\n",
       "      <th>launched_at</th>\n",
       "      <th>country</th>\n",
       "      <th>currency</th>\n",
       "      <th>backers_count</th>\n",
       "      <th>creator_id</th>\n",
       "      <th>project_id</th>\n",
       "      <th>category_id</th>\n",
       "      <th>category_name</th>\n",
       "      <th>category_slug</th>\n",
       "    </tr>\n",
       "  </thead>\n",
       "  <tbody>\n",
       "    <tr>\n",
       "      <th>170854</th>\n",
       "      <td>620302213</td>\n",
       "      <td>LOVELAND Round 6: A Force More Powerful</td>\n",
       "      <td>$1 a square inch in Detroit + super fun excite...</td>\n",
       "      <td>0.01</td>\n",
       "      <td>100.0</td>\n",
       "      <td>successful</td>\n",
       "      <td>1259906820</td>\n",
       "      <td>1259907306</td>\n",
       "      <td>1259129231</td>\n",
       "      <td>1259132089</td>\n",
       "      <td>US</td>\n",
       "      <td>USD</td>\n",
       "      <td>6</td>\n",
       "      <td>211945026</td>\n",
       "      <td>2017</td>\n",
       "      <td>20</td>\n",
       "      <td>Conceptual Art</td>\n",
       "      <td>art/conceptual art</td>\n",
       "    </tr>\n",
       "  </tbody>\n",
       "</table>\n",
       "</div>"
      ],
      "text/plain": [
       "               id                                     name  \\\n",
       "170854  620302213  LOVELAND Round 6: A Force More Powerful   \n",
       "\n",
       "                                                    blurb  goal  pledged  \\\n",
       "170854  $1 a square inch in Detroit + super fun excite...  0.01    100.0   \n",
       "\n",
       "             state    deadline  state_changed_at  created_at  launched_at  \\\n",
       "170854  successful  1259906820        1259907306  1259129231   1259132089   \n",
       "\n",
       "       country currency  backers_count  creator_id  project_id  category_id  \\\n",
       "170854      US      USD              6   211945026        2017           20   \n",
       "\n",
       "         category_name       category_slug  \n",
       "170854  Conceptual Art  art/conceptual art  "
      ]
     },
     "execution_count": 11,
     "metadata": {},
     "output_type": "execute_result"
    }
   ],
   "source": [
    "kdata_.loc[kdata['goal'] == 0.01]"
   ]
  },
  {
   "cell_type": "code",
   "execution_count": 12,
   "metadata": {},
   "outputs": [],
   "source": [
    "# create '0' or '1' label for BERT\n",
    "klabel = []\n",
    "for i in kdata_['state']:\n",
    "    if i == 'failed':\n",
    "        klabel.append('0')\n",
    "    else:\n",
    "        klabel.append('1')\n",
    "kdata_['label'] = klabel"
   ]
  },
  {
   "cell_type": "code",
   "execution_count": 13,
   "metadata": {},
   "outputs": [],
   "source": [
    "# remove '\\n', '\\t', '\\r' in each description\n",
    "desc = list(kdata_['blurb'])\n",
    "\n",
    "desc_clean = []\n",
    "for s in desc:\n",
    "    s = str(s).replace('\\n', ' ')\n",
    "    s = s.replace('\\t', ' ')\n",
    "    s = s.replace('\\r', ' ')\n",
    "    desc_clean.append(s)\n",
    "    \n",
    "kdata_['desc_clean'] = desc_clean"
   ]
  },
  {
   "cell_type": "code",
   "execution_count": 14,
   "metadata": {},
   "outputs": [
    {
     "data": {
      "text/plain": [
       "151943"
      ]
     },
     "execution_count": 14,
     "metadata": {},
     "output_type": "execute_result"
    }
   ],
   "source": [
    "# add one feature: length of the description\n",
    "desc_len = [len(re.findall(r'\\w+', str(d))) for d in desc]\n",
    "kdata_['desc_len'] = desc_len\n",
    "len(desc_len)"
   ]
  },
  {
   "cell_type": "code",
   "execution_count": 15,
   "metadata": {},
   "outputs": [
    {
     "data": {
      "text/html": [
       "<div>\n",
       "<style scoped>\n",
       "    .dataframe tbody tr th:only-of-type {\n",
       "        vertical-align: middle;\n",
       "    }\n",
       "\n",
       "    .dataframe tbody tr th {\n",
       "        vertical-align: top;\n",
       "    }\n",
       "\n",
       "    .dataframe thead th {\n",
       "        text-align: right;\n",
       "    }\n",
       "</style>\n",
       "<table border=\"1\" class=\"dataframe\">\n",
       "  <thead>\n",
       "    <tr style=\"text-align: right;\">\n",
       "      <th></th>\n",
       "      <th>id</th>\n",
       "      <th>name</th>\n",
       "      <th>blurb</th>\n",
       "      <th>goal</th>\n",
       "      <th>pledged</th>\n",
       "      <th>state</th>\n",
       "      <th>deadline</th>\n",
       "      <th>state_changed_at</th>\n",
       "      <th>created_at</th>\n",
       "      <th>launched_at</th>\n",
       "      <th>...</th>\n",
       "      <th>currency</th>\n",
       "      <th>backers_count</th>\n",
       "      <th>creator_id</th>\n",
       "      <th>project_id</th>\n",
       "      <th>category_id</th>\n",
       "      <th>category_name</th>\n",
       "      <th>category_slug</th>\n",
       "      <th>label</th>\n",
       "      <th>desc_clean</th>\n",
       "      <th>desc_len</th>\n",
       "    </tr>\n",
       "  </thead>\n",
       "  <tbody>\n",
       "    <tr>\n",
       "      <th>40918</th>\n",
       "      <td>1435295287</td>\n",
       "      <td>graffiti shows and festivals in California</td>\n",
       "      <td>Graff shows in Bakersfield  / California with ...</td>\n",
       "      <td>5000.0</td>\n",
       "      <td>11.0</td>\n",
       "      <td>failed</td>\n",
       "      <td>1429572000</td>\n",
       "      <td>1429572000</td>\n",
       "      <td>1425914764</td>\n",
       "      <td>1426181107</td>\n",
       "      <td>...</td>\n",
       "      <td>USD</td>\n",
       "      <td>1</td>\n",
       "      <td>368593535</td>\n",
       "      <td>19</td>\n",
       "      <td>23</td>\n",
       "      <td>Painting</td>\n",
       "      <td>art/painting</td>\n",
       "      <td>0</td>\n",
       "      <td>Graff shows in Bakersfield  / California with ...</td>\n",
       "      <td>9</td>\n",
       "    </tr>\n",
       "    <tr>\n",
       "      <th>45941</th>\n",
       "      <td>170817041</td>\n",
       "      <td>Gentlemen's Fury</td>\n",
       "      <td>Gentlemen's Fury is a dark comedy about tennis...</td>\n",
       "      <td>50000.0</td>\n",
       "      <td>18443.0</td>\n",
       "      <td>failed</td>\n",
       "      <td>1429218605</td>\n",
       "      <td>1429218608</td>\n",
       "      <td>1425915258</td>\n",
       "      <td>1426626605</td>\n",
       "      <td>...</td>\n",
       "      <td>USD</td>\n",
       "      <td>100</td>\n",
       "      <td>810901157</td>\n",
       "      <td>38</td>\n",
       "      <td>292</td>\n",
       "      <td>Comedy</td>\n",
       "      <td>film &amp; video/comedy</td>\n",
       "      <td>0</td>\n",
       "      <td>Gentlemen's Fury is a dark comedy about tennis...</td>\n",
       "      <td>25</td>\n",
       "    </tr>\n",
       "    <tr>\n",
       "      <th>77276</th>\n",
       "      <td>1409304825</td>\n",
       "      <td>The Influencers Movement #JOINTIM</td>\n",
       "      <td>TIM makes influencers marketing accessible for...</td>\n",
       "      <td>10000.0</td>\n",
       "      <td>11016.0</td>\n",
       "      <td>successful</td>\n",
       "      <td>1432114351</td>\n",
       "      <td>1432114352</td>\n",
       "      <td>1425915690</td>\n",
       "      <td>1429522351</td>\n",
       "      <td>...</td>\n",
       "      <td>EUR</td>\n",
       "      <td>130</td>\n",
       "      <td>1051624225</td>\n",
       "      <td>49</td>\n",
       "      <td>342</td>\n",
       "      <td>Web</td>\n",
       "      <td>technology/web</td>\n",
       "      <td>1</td>\n",
       "      <td>TIM makes influencers marketing accessible for...</td>\n",
       "      <td>17</td>\n",
       "    </tr>\n",
       "    <tr>\n",
       "      <th>10787</th>\n",
       "      <td>2135528160</td>\n",
       "      <td>Fresh Perspective - Fresh Gardening</td>\n",
       "      <td>#gardening #selfsustainability</td>\n",
       "      <td>300.0</td>\n",
       "      <td>0.0</td>\n",
       "      <td>failed</td>\n",
       "      <td>1427216036</td>\n",
       "      <td>1427216038</td>\n",
       "      <td>1425915728</td>\n",
       "      <td>1425920036</td>\n",
       "      <td>...</td>\n",
       "      <td>USD</td>\n",
       "      <td>0</td>\n",
       "      <td>1823248285</td>\n",
       "      <td>54</td>\n",
       "      <td>310</td>\n",
       "      <td>Farmer's Markets</td>\n",
       "      <td>food/farmer's markets</td>\n",
       "      <td>0</td>\n",
       "      <td>#gardening #selfsustainability</td>\n",
       "      <td>2</td>\n",
       "    </tr>\n",
       "    <tr>\n",
       "      <th>175168</th>\n",
       "      <td>405307432</td>\n",
       "      <td>Electronola - An electronic gumbo of New Orlea...</td>\n",
       "      <td>UPDATE: Shannon Powell, Walter Payton, Lucien ...</td>\n",
       "      <td>4000.0</td>\n",
       "      <td>4100.6</td>\n",
       "      <td>successful</td>\n",
       "      <td>1244185140</td>\n",
       "      <td>1244185224</td>\n",
       "      <td>1240366270</td>\n",
       "      <td>1241192665</td>\n",
       "      <td>...</td>\n",
       "      <td>USD</td>\n",
       "      <td>114</td>\n",
       "      <td>11</td>\n",
       "      <td>63</td>\n",
       "      <td>38</td>\n",
       "      <td>Electronic Music</td>\n",
       "      <td>music/electronic music</td>\n",
       "      <td>1</td>\n",
       "      <td>UPDATE: Shannon Powell, Walter Payton, Lucien ...</td>\n",
       "      <td>23</td>\n",
       "    </tr>\n",
       "  </tbody>\n",
       "</table>\n",
       "<p>5 rows × 21 columns</p>\n",
       "</div>"
      ],
      "text/plain": [
       "                id                                               name  \\\n",
       "40918   1435295287         graffiti shows and festivals in California   \n",
       "45941    170817041                                   Gentlemen's Fury   \n",
       "77276   1409304825                  The Influencers Movement #JOINTIM   \n",
       "10787   2135528160                Fresh Perspective - Fresh Gardening   \n",
       "175168   405307432  Electronola - An electronic gumbo of New Orlea...   \n",
       "\n",
       "                                                    blurb     goal  pledged  \\\n",
       "40918   Graff shows in Bakersfield  / California with ...   5000.0     11.0   \n",
       "45941   Gentlemen's Fury is a dark comedy about tennis...  50000.0  18443.0   \n",
       "77276   TIM makes influencers marketing accessible for...  10000.0  11016.0   \n",
       "10787                      #gardening #selfsustainability    300.0      0.0   \n",
       "175168  UPDATE: Shannon Powell, Walter Payton, Lucien ...   4000.0   4100.6   \n",
       "\n",
       "             state    deadline  state_changed_at  created_at  launched_at  \\\n",
       "40918       failed  1429572000        1429572000  1425914764   1426181107   \n",
       "45941       failed  1429218605        1429218608  1425915258   1426626605   \n",
       "77276   successful  1432114351        1432114352  1425915690   1429522351   \n",
       "10787       failed  1427216036        1427216038  1425915728   1425920036   \n",
       "175168  successful  1244185140        1244185224  1240366270   1241192665   \n",
       "\n",
       "        ... currency backers_count  creator_id  project_id  category_id  \\\n",
       "40918   ...      USD             1   368593535          19           23   \n",
       "45941   ...      USD           100   810901157          38          292   \n",
       "77276   ...      EUR           130  1051624225          49          342   \n",
       "10787   ...      USD             0  1823248285          54          310   \n",
       "175168  ...      USD           114          11          63           38   \n",
       "\n",
       "           category_name           category_slug label  \\\n",
       "40918           Painting            art/painting     0   \n",
       "45941             Comedy     film & video/comedy     0   \n",
       "77276                Web          technology/web     1   \n",
       "10787   Farmer's Markets   food/farmer's markets     0   \n",
       "175168  Electronic Music  music/electronic music     1   \n",
       "\n",
       "                                               desc_clean desc_len  \n",
       "40918   Graff shows in Bakersfield  / California with ...        9  \n",
       "45941   Gentlemen's Fury is a dark comedy about tennis...       25  \n",
       "77276   TIM makes influencers marketing accessible for...       17  \n",
       "10787                      #gardening #selfsustainability        2  \n",
       "175168  UPDATE: Shannon Powell, Walter Payton, Lucien ...       23  \n",
       "\n",
       "[5 rows x 21 columns]"
      ]
     },
     "execution_count": 15,
     "metadata": {},
     "output_type": "execute_result"
    }
   ],
   "source": [
    "kdata_.head()"
   ]
  },
  {
   "cell_type": "code",
   "execution_count": 16,
   "metadata": {},
   "outputs": [
    {
     "data": {
      "text/plain": [
       "15194"
      ]
     },
     "execution_count": 16,
     "metadata": {},
     "output_type": "execute_result"
    }
   ],
   "source": [
    "kdata_.shape[0] - round(kdata_.shape[0] * 0.9)"
   ]
  },
  {
   "cell_type": "code",
   "execution_count": 17,
   "metadata": {},
   "outputs": [],
   "source": [
    "# prepare the data for BERT classifier\n",
    "# create .tsv file with textual feature only\n",
    "cols = ['label', 'project_id', 'project_id', 'desc_clean', 'desc_clean']\n",
    "ktext_only = kdata_.loc[:, cols]\n",
    "\n",
    "# shuffle the data and split it into train, dev, and test set.\n",
    "ktext_only = shuffle(ktext_only)\n",
    "\n",
    "n_train = round(0.9 * ktext_only.shape[0])\n",
    "n_test = int((ktext_only.shape[0] - n_train) / 2)\n",
    "# print(n_test, n_train)\n",
    "\n",
    "ktext_only_train = ktext_only.iloc[:n_train]\n",
    "ktext_only_dev = ktext_only.iloc[n_train:(n_train + n_test)]\n",
    "ktext_only_test = ktext_only.iloc[(n_train + n_test):]\n",
    "\n",
    "ktext_only_train.to_csv('KICK/text_only_train.tsv', sep='\\t', index=None)\n",
    "ktext_only_dev.to_csv('KICK/text_only_dev.tsv', sep='\\t', index=None)\n",
    "ktext_only_test.to_csv('KICK/text_only_test.tsv', sep='\\t', index=None)\n",
    "\n",
    "## moved all three .tsv files to bert-classifier/glue-data/KICK"
   ]
  },
  {
   "cell_type": "code",
   "execution_count": 18,
   "metadata": {},
   "outputs": [],
   "source": [
    "# create train/dev/test set for baseline and other models\n",
    "select_col_list = ['desc_clean', 'desc_len', 'goal', 'category_slug', 'label']\n",
    "\n",
    "def id_generate_set(id_df, orig_df, orig_id_col_name, select_col_list):\n",
    "    get_id = id_df.iloc[:,1].values\n",
    "    output_df = orig_df.loc[orig_df[orig_id_col_name].isin(get_id)]\n",
    "    output_df = output_df[select_col_list]\n",
    "    return output_df\n",
    "\n",
    "train_df = id_generate_set(ktext_only_train, kdata_, 'project_id', select_col_list)\n",
    "dev_df = id_generate_set(ktext_only_dev, kdata_, 'project_id', select_col_list)\n",
    "test_df = id_generate_set(ktext_only_test, kdata_, 'project_id', select_col_list)\n",
    "\n",
    "train_df.to_csv('KICK/textandmeta_train.tsv', sep='\\t', index=None)\n",
    "dev_df.to_csv('KICK/textandmeta_dev.tsv', sep='\\t', index=None)\n",
    "test_df.to_csv('KICK/textandmeta_test.tsv', sep='\\t', index=None)"
   ]
  },
  {
   "cell_type": "code",
   "execution_count": null,
   "metadata": {},
   "outputs": [],
   "source": []
  },
  {
   "cell_type": "code",
   "execution_count": null,
   "metadata": {},
   "outputs": [],
   "source": []
  },
  {
   "cell_type": "markdown",
   "metadata": {},
   "source": [
    "## Indiegogo data selection\n",
    "1. explore kickstarter data\n",
    "2. remove the examples with 0 balance\n",
    "3. convert balance from string to number and save it as new column 'goal'\n",
    "4. (optional) create '0'/'1' label\n",
    "5. clean up description, remove '\\n', '\\t', '\\r' in the original description (for BERT)\n",
    "6. add feature: length of the description\n",
    "7. select features and save files."
   ]
  },
  {
   "cell_type": "code",
   "execution_count": 178,
   "metadata": {
    "scrolled": true
   },
   "outputs": [
    {
     "data": {
      "text/html": [
       "<div>\n",
       "<style scoped>\n",
       "    .dataframe tbody tr th:only-of-type {\n",
       "        vertical-align: middle;\n",
       "    }\n",
       "\n",
       "    .dataframe tbody tr th {\n",
       "        vertical-align: top;\n",
       "    }\n",
       "\n",
       "    .dataframe thead th {\n",
       "        text-align: right;\n",
       "    }\n",
       "</style>\n",
       "<table border=\"1\" class=\"dataframe\">\n",
       "  <thead>\n",
       "    <tr style=\"text-align: right;\">\n",
       "      <th></th>\n",
       "      <th>id</th>\n",
       "      <th>title</th>\n",
       "      <th>balance</th>\n",
       "      <th>tagline</th>\n",
       "      <th>card_type</th>\n",
       "      <th>category_slug</th>\n",
       "      <th>currency_code</th>\n",
       "      <th>in_forever_funding</th>\n",
       "      <th>cached_collected_pledges_count</th>\n",
       "    </tr>\n",
       "  </thead>\n",
       "  <tbody>\n",
       "    <tr>\n",
       "      <th>0</th>\n",
       "      <td>2237863</td>\n",
       "      <td>Pi SDR for radio amateurs</td>\n",
       "      <td>$1,570</td>\n",
       "      <td>A great solution for SDR1000 and Softrock/Ense...</td>\n",
       "      <td>project</td>\n",
       "      <td>tech-innovation</td>\n",
       "      <td>USD</td>\n",
       "      <td>False</td>\n",
       "      <td>6</td>\n",
       "    </tr>\n",
       "    <tr>\n",
       "      <th>1</th>\n",
       "      <td>2283716</td>\n",
       "      <td>Washy</td>\n",
       "      <td>£0</td>\n",
       "      <td>Next generation of portable dishwashers, say b...</td>\n",
       "      <td>project</td>\n",
       "      <td>home</td>\n",
       "      <td>GBP</td>\n",
       "      <td>False</td>\n",
       "      <td>0</td>\n",
       "    </tr>\n",
       "    <tr>\n",
       "      <th>2</th>\n",
       "      <td>2286181</td>\n",
       "      <td>Magnetic Glowing Coasters</td>\n",
       "      <td>$3</td>\n",
       "      <td>We need your support in launching our new prod...</td>\n",
       "      <td>project</td>\n",
       "      <td>productivity</td>\n",
       "      <td>USD</td>\n",
       "      <td>False</td>\n",
       "      <td>1</td>\n",
       "    </tr>\n",
       "    <tr>\n",
       "      <th>3</th>\n",
       "      <td>2296821</td>\n",
       "      <td>Triplync - the ultimate travel app</td>\n",
       "      <td>$0</td>\n",
       "      <td>Trip booking service based on Ai that helps tr...</td>\n",
       "      <td>project</td>\n",
       "      <td>travel-outdoors</td>\n",
       "      <td>USD</td>\n",
       "      <td>False</td>\n",
       "      <td>0</td>\n",
       "    </tr>\n",
       "    <tr>\n",
       "      <th>4</th>\n",
       "      <td>2267514</td>\n",
       "      <td>INSHUS Simple Way</td>\n",
       "      <td>$0</td>\n",
       "      <td>putting on and taking off shoes has an end</td>\n",
       "      <td>project</td>\n",
       "      <td>fashion-wearables</td>\n",
       "      <td>USD</td>\n",
       "      <td>False</td>\n",
       "      <td>0</td>\n",
       "    </tr>\n",
       "  </tbody>\n",
       "</table>\n",
       "</div>"
      ],
      "text/plain": [
       "        id                               title balance  \\\n",
       "0  2237863           Pi SDR for radio amateurs  $1,570   \n",
       "1  2283716                               Washy      £0   \n",
       "2  2286181           Magnetic Glowing Coasters      $3   \n",
       "3  2296821  Triplync - the ultimate travel app      $0   \n",
       "4  2267514                   INSHUS Simple Way      $0   \n",
       "\n",
       "                                             tagline card_type  \\\n",
       "0  A great solution for SDR1000 and Softrock/Ense...   project   \n",
       "1  Next generation of portable dishwashers, say b...   project   \n",
       "2  We need your support in launching our new prod...   project   \n",
       "3  Trip booking service based on Ai that helps tr...   project   \n",
       "4         putting on and taking off shoes has an end   project   \n",
       "\n",
       "       category_slug currency_code  in_forever_funding  \\\n",
       "0    tech-innovation           USD               False   \n",
       "1               home           GBP               False   \n",
       "2       productivity           USD               False   \n",
       "3    travel-outdoors           USD               False   \n",
       "4  fashion-wearables           USD               False   \n",
       "\n",
       "   cached_collected_pledges_count  \n",
       "0                               6  \n",
       "1                               0  \n",
       "2                               1  \n",
       "3                               0  \n",
       "4                               0  "
      ]
     },
     "execution_count": 178,
     "metadata": {},
     "output_type": "execute_result"
    }
   ],
   "source": [
    "# load indiegogo data\n",
    "idata = pd.read_csv('indiegogo-2017-extracted.csv')\n",
    "idata.head()"
   ]
  },
  {
   "cell_type": "code",
   "execution_count": 179,
   "metadata": {},
   "outputs": [],
   "source": [
    "idata_ = idata.loc[(idata['currency_code'] == 'USD') & (idata['balance'] != '$0')].copy()"
   ]
  },
  {
   "cell_type": "code",
   "execution_count": 180,
   "metadata": {},
   "outputs": [
    {
     "data": {
      "text/plain": [
       "count     211176\n",
       "unique         2\n",
       "top        False\n",
       "freq      201034\n",
       "Name: in_forever_funding, dtype: object"
      ]
     },
     "execution_count": 180,
     "metadata": {},
     "output_type": "execute_result"
    }
   ],
   "source": [
    "idata_['in_forever_funding'].describe()"
   ]
  },
  {
   "cell_type": "code",
   "execution_count": 181,
   "metadata": {
    "scrolled": true
   },
   "outputs": [
    {
     "data": {
      "text/plain": [
       "count     211176\n",
       "unique     15804\n",
       "top         $500\n",
       "freq         832\n",
       "Name: balance, dtype: object"
      ]
     },
     "execution_count": 181,
     "metadata": {},
     "output_type": "execute_result"
    }
   ],
   "source": [
    "idata_['balance'].describe()"
   ]
  },
  {
   "cell_type": "code",
   "execution_count": 182,
   "metadata": {},
   "outputs": [],
   "source": [
    "bal = list(idata_['balance'])"
   ]
  },
  {
   "cell_type": "code",
   "execution_count": 183,
   "metadata": {},
   "outputs": [
    {
     "data": {
      "text/plain": [
       "3"
      ]
     },
     "execution_count": 183,
     "metadata": {},
     "output_type": "execute_result"
    }
   ],
   "source": [
    "int(bal[1][1:].replace(',',''))"
   ]
  },
  {
   "cell_type": "code",
   "execution_count": 184,
   "metadata": {},
   "outputs": [],
   "source": [
    "bal_int = [int(x[1:].replace(',','')) for x in bal]"
   ]
  },
  {
   "cell_type": "code",
   "execution_count": 185,
   "metadata": {},
   "outputs": [],
   "source": [
    "idata_['goal'] = bal_int"
   ]
  },
  {
   "cell_type": "code",
   "execution_count": 186,
   "metadata": {},
   "outputs": [
    {
     "data": {
      "text/html": [
       "<div>\n",
       "<style scoped>\n",
       "    .dataframe tbody tr th:only-of-type {\n",
       "        vertical-align: middle;\n",
       "    }\n",
       "\n",
       "    .dataframe tbody tr th {\n",
       "        vertical-align: top;\n",
       "    }\n",
       "\n",
       "    .dataframe thead th {\n",
       "        text-align: right;\n",
       "    }\n",
       "</style>\n",
       "<table border=\"1\" class=\"dataframe\">\n",
       "  <thead>\n",
       "    <tr style=\"text-align: right;\">\n",
       "      <th></th>\n",
       "      <th>id</th>\n",
       "      <th>title</th>\n",
       "      <th>balance</th>\n",
       "      <th>tagline</th>\n",
       "      <th>card_type</th>\n",
       "      <th>category_slug</th>\n",
       "      <th>currency_code</th>\n",
       "      <th>in_forever_funding</th>\n",
       "      <th>cached_collected_pledges_count</th>\n",
       "      <th>goal</th>\n",
       "    </tr>\n",
       "  </thead>\n",
       "  <tbody>\n",
       "    <tr>\n",
       "      <th>0</th>\n",
       "      <td>2237863</td>\n",
       "      <td>Pi SDR for radio amateurs</td>\n",
       "      <td>$1,570</td>\n",
       "      <td>A great solution for SDR1000 and Softrock/Ense...</td>\n",
       "      <td>project</td>\n",
       "      <td>tech-innovation</td>\n",
       "      <td>USD</td>\n",
       "      <td>False</td>\n",
       "      <td>6</td>\n",
       "      <td>1570</td>\n",
       "    </tr>\n",
       "    <tr>\n",
       "      <th>2</th>\n",
       "      <td>2286181</td>\n",
       "      <td>Magnetic Glowing Coasters</td>\n",
       "      <td>$3</td>\n",
       "      <td>We need your support in launching our new prod...</td>\n",
       "      <td>project</td>\n",
       "      <td>productivity</td>\n",
       "      <td>USD</td>\n",
       "      <td>False</td>\n",
       "      <td>1</td>\n",
       "      <td>3</td>\n",
       "    </tr>\n",
       "    <tr>\n",
       "      <th>9</th>\n",
       "      <td>2024227</td>\n",
       "      <td>TOC - GOOD VIBES</td>\n",
       "      <td>$162</td>\n",
       "      <td>TOC is a revolutionary device that helps babie...</td>\n",
       "      <td>project</td>\n",
       "      <td>travel-outdoors</td>\n",
       "      <td>USD</td>\n",
       "      <td>False</td>\n",
       "      <td>3</td>\n",
       "      <td>162</td>\n",
       "    </tr>\n",
       "    <tr>\n",
       "      <th>10</th>\n",
       "      <td>2278591</td>\n",
       "      <td>Selsabel Hair Care &amp; Advanced Organic Formula</td>\n",
       "      <td>$44</td>\n",
       "      <td>Unique Hair Care for All Hair Types, Optimizes...</td>\n",
       "      <td>project</td>\n",
       "      <td>health-fitness</td>\n",
       "      <td>USD</td>\n",
       "      <td>False</td>\n",
       "      <td>1</td>\n",
       "      <td>44</td>\n",
       "    </tr>\n",
       "    <tr>\n",
       "      <th>12</th>\n",
       "      <td>1902423</td>\n",
       "      <td>Dubblecup: Ceramic Double Cup</td>\n",
       "      <td>$170</td>\n",
       "      <td>Microwave-Safe, Dishwasher-Safe, Baller-Tier D...</td>\n",
       "      <td>project</td>\n",
       "      <td>home</td>\n",
       "      <td>USD</td>\n",
       "      <td>False</td>\n",
       "      <td>6</td>\n",
       "      <td>170</td>\n",
       "    </tr>\n",
       "  </tbody>\n",
       "</table>\n",
       "</div>"
      ],
      "text/plain": [
       "         id                                          title balance  \\\n",
       "0   2237863                      Pi SDR for radio amateurs  $1,570   \n",
       "2   2286181                      Magnetic Glowing Coasters      $3   \n",
       "9   2024227                               TOC - GOOD VIBES    $162   \n",
       "10  2278591  Selsabel Hair Care & Advanced Organic Formula     $44   \n",
       "12  1902423                  Dubblecup: Ceramic Double Cup    $170   \n",
       "\n",
       "                                              tagline card_type  \\\n",
       "0   A great solution for SDR1000 and Softrock/Ense...   project   \n",
       "2   We need your support in launching our new prod...   project   \n",
       "9   TOC is a revolutionary device that helps babie...   project   \n",
       "10  Unique Hair Care for All Hair Types, Optimizes...   project   \n",
       "12  Microwave-Safe, Dishwasher-Safe, Baller-Tier D...   project   \n",
       "\n",
       "      category_slug currency_code  in_forever_funding  \\\n",
       "0   tech-innovation           USD               False   \n",
       "2      productivity           USD               False   \n",
       "9   travel-outdoors           USD               False   \n",
       "10   health-fitness           USD               False   \n",
       "12             home           USD               False   \n",
       "\n",
       "    cached_collected_pledges_count  goal  \n",
       "0                                6  1570  \n",
       "2                                1     3  \n",
       "9                                3   162  \n",
       "10                               1    44  \n",
       "12                               6   170  "
      ]
     },
     "execution_count": 186,
     "metadata": {},
     "output_type": "execute_result"
    }
   ],
   "source": [
    "idata_.head()"
   ]
  },
  {
   "cell_type": "code",
   "execution_count": 187,
   "metadata": {},
   "outputs": [
    {
     "data": {
      "text/plain": [
       "count    2.111760e+05\n",
       "mean     2.186964e+04\n",
       "std      1.705807e+05\n",
       "min      1.000000e+00\n",
       "25%      6.710000e+02\n",
       "50%      1.997500e+03\n",
       "75%      6.218000e+03\n",
       "max      1.328835e+07\n",
       "Name: goal, dtype: float64"
      ]
     },
     "execution_count": 187,
     "metadata": {},
     "output_type": "execute_result"
    }
   ],
   "source": [
    "idata_['goal'].describe()"
   ]
  },
  {
   "cell_type": "code",
   "execution_count": 188,
   "metadata": {},
   "outputs": [],
   "source": [
    "# remove '\\n', '\\t', '\\r' in each description\n",
    "desc = list(idata_['tagline'])\n",
    "\n",
    "desc_clean = []\n",
    "for s in desc:\n",
    "    s = str(s).replace('\\n', ' ')\n",
    "    s = s.replace('\\t', ' ')\n",
    "    s = s.replace('\\r', ' ')\n",
    "    desc_clean.append(s)\n",
    "    \n",
    "idata_['desc_clean'] = desc_clean"
   ]
  },
  {
   "cell_type": "code",
   "execution_count": 189,
   "metadata": {},
   "outputs": [
    {
     "data": {
      "text/plain": [
       "211176"
      ]
     },
     "execution_count": 189,
     "metadata": {},
     "output_type": "execute_result"
    }
   ],
   "source": [
    "desc_len = [len(re.findall(r'\\w+', str(d))) for d in desc]\n",
    "len(desc_len)"
   ]
  },
  {
   "cell_type": "code",
   "execution_count": 190,
   "metadata": {},
   "outputs": [],
   "source": [
    "idata_['desc_len'] = desc_len"
   ]
  },
  {
   "cell_type": "code",
   "execution_count": 191,
   "metadata": {},
   "outputs": [
    {
     "data": {
      "text/html": [
       "<div>\n",
       "<style scoped>\n",
       "    .dataframe tbody tr th:only-of-type {\n",
       "        vertical-align: middle;\n",
       "    }\n",
       "\n",
       "    .dataframe tbody tr th {\n",
       "        vertical-align: top;\n",
       "    }\n",
       "\n",
       "    .dataframe thead th {\n",
       "        text-align: right;\n",
       "    }\n",
       "</style>\n",
       "<table border=\"1\" class=\"dataframe\">\n",
       "  <thead>\n",
       "    <tr style=\"text-align: right;\">\n",
       "      <th></th>\n",
       "      <th>id</th>\n",
       "      <th>title</th>\n",
       "      <th>balance</th>\n",
       "      <th>tagline</th>\n",
       "      <th>card_type</th>\n",
       "      <th>category_slug</th>\n",
       "      <th>currency_code</th>\n",
       "      <th>in_forever_funding</th>\n",
       "      <th>cached_collected_pledges_count</th>\n",
       "      <th>goal</th>\n",
       "      <th>desc_clean</th>\n",
       "      <th>desc_len</th>\n",
       "      <th>label</th>\n",
       "    </tr>\n",
       "  </thead>\n",
       "  <tbody>\n",
       "    <tr>\n",
       "      <th>0</th>\n",
       "      <td>2237863</td>\n",
       "      <td>Pi SDR for radio amateurs</td>\n",
       "      <td>$1,570</td>\n",
       "      <td>A great solution for SDR1000 and Softrock/Ense...</td>\n",
       "      <td>project</td>\n",
       "      <td>tech-innovation</td>\n",
       "      <td>USD</td>\n",
       "      <td>False</td>\n",
       "      <td>6</td>\n",
       "      <td>1570</td>\n",
       "      <td>A great solution for SDR1000 and Softrock/Ense...</td>\n",
       "      <td>12</td>\n",
       "      <td>0</td>\n",
       "    </tr>\n",
       "    <tr>\n",
       "      <th>2</th>\n",
       "      <td>2286181</td>\n",
       "      <td>Magnetic Glowing Coasters</td>\n",
       "      <td>$3</td>\n",
       "      <td>We need your support in launching our new prod...</td>\n",
       "      <td>project</td>\n",
       "      <td>productivity</td>\n",
       "      <td>USD</td>\n",
       "      <td>False</td>\n",
       "      <td>1</td>\n",
       "      <td>3</td>\n",
       "      <td>We need your support in launching our new prod...</td>\n",
       "      <td>12</td>\n",
       "      <td>0</td>\n",
       "    </tr>\n",
       "    <tr>\n",
       "      <th>9</th>\n",
       "      <td>2024227</td>\n",
       "      <td>TOC - GOOD VIBES</td>\n",
       "      <td>$162</td>\n",
       "      <td>TOC is a revolutionary device that helps babie...</td>\n",
       "      <td>project</td>\n",
       "      <td>travel-outdoors</td>\n",
       "      <td>USD</td>\n",
       "      <td>False</td>\n",
       "      <td>3</td>\n",
       "      <td>162</td>\n",
       "      <td>TOC is a revolutionary device that helps babie...</td>\n",
       "      <td>15</td>\n",
       "      <td>0</td>\n",
       "    </tr>\n",
       "    <tr>\n",
       "      <th>10</th>\n",
       "      <td>2278591</td>\n",
       "      <td>Selsabel Hair Care &amp; Advanced Organic Formula</td>\n",
       "      <td>$44</td>\n",
       "      <td>Unique Hair Care for All Hair Types, Optimizes...</td>\n",
       "      <td>project</td>\n",
       "      <td>health-fitness</td>\n",
       "      <td>USD</td>\n",
       "      <td>False</td>\n",
       "      <td>1</td>\n",
       "      <td>44</td>\n",
       "      <td>Unique Hair Care for All Hair Types, Optimizes...</td>\n",
       "      <td>16</td>\n",
       "      <td>0</td>\n",
       "    </tr>\n",
       "    <tr>\n",
       "      <th>12</th>\n",
       "      <td>1902423</td>\n",
       "      <td>Dubblecup: Ceramic Double Cup</td>\n",
       "      <td>$170</td>\n",
       "      <td>Microwave-Safe, Dishwasher-Safe, Baller-Tier D...</td>\n",
       "      <td>project</td>\n",
       "      <td>home</td>\n",
       "      <td>USD</td>\n",
       "      <td>False</td>\n",
       "      <td>6</td>\n",
       "      <td>170</td>\n",
       "      <td>Microwave-Safe, Dishwasher-Safe, Baller-Tier D...</td>\n",
       "      <td>8</td>\n",
       "      <td>0</td>\n",
       "    </tr>\n",
       "  </tbody>\n",
       "</table>\n",
       "</div>"
      ],
      "text/plain": [
       "         id                                          title balance  \\\n",
       "0   2237863                      Pi SDR for radio amateurs  $1,570   \n",
       "2   2286181                      Magnetic Glowing Coasters      $3   \n",
       "9   2024227                               TOC - GOOD VIBES    $162   \n",
       "10  2278591  Selsabel Hair Care & Advanced Organic Formula     $44   \n",
       "12  1902423                  Dubblecup: Ceramic Double Cup    $170   \n",
       "\n",
       "                                              tagline card_type  \\\n",
       "0   A great solution for SDR1000 and Softrock/Ense...   project   \n",
       "2   We need your support in launching our new prod...   project   \n",
       "9   TOC is a revolutionary device that helps babie...   project   \n",
       "10  Unique Hair Care for All Hair Types, Optimizes...   project   \n",
       "12  Microwave-Safe, Dishwasher-Safe, Baller-Tier D...   project   \n",
       "\n",
       "      category_slug currency_code  in_forever_funding  \\\n",
       "0   tech-innovation           USD               False   \n",
       "2      productivity           USD               False   \n",
       "9   travel-outdoors           USD               False   \n",
       "10   health-fitness           USD               False   \n",
       "12             home           USD               False   \n",
       "\n",
       "    cached_collected_pledges_count  goal  \\\n",
       "0                                6  1570   \n",
       "2                                1     3   \n",
       "9                                3   162   \n",
       "10                               1    44   \n",
       "12                               6   170   \n",
       "\n",
       "                                           desc_clean  desc_len label  \n",
       "0   A great solution for SDR1000 and Softrock/Ense...        12     0  \n",
       "2   We need your support in launching our new prod...        12     0  \n",
       "9   TOC is a revolutionary device that helps babie...        15     0  \n",
       "10  Unique Hair Care for All Hair Types, Optimizes...        16     0  \n",
       "12  Microwave-Safe, Dishwasher-Safe, Baller-Tier D...         8     0  "
      ]
     },
     "execution_count": 191,
     "metadata": {},
     "output_type": "execute_result"
    }
   ],
   "source": [
    "label = [str(int(i)) for i in idata_['in_forever_funding']]\n",
    "idata_['label'] = label\n",
    "idata_.head()"
   ]
  },
  {
   "cell_type": "code",
   "execution_count": 192,
   "metadata": {},
   "outputs": [],
   "source": [
    "# create .tsv file with textual feature only\n",
    "cols = ['label', 'id', 'id', 'desc_clean', 'desc_clean']\n",
    "itext_only = idata_.loc[:, cols]\n",
    "\n",
    "# shuffle the data and split it into train, dev, and test set.\n",
    "itext_only = shuffle(itext_only)\n",
    "\n",
    "n_train = round(0.9 * itext_only.shape[0])\n",
    "n_test = int((itext_only.shape[0] - n_train) / 2)\n",
    "# print(n_test, n_train)\n",
    "\n",
    "itext_only_train = itext_only.iloc[:n_train]\n",
    "itext_only_dev = itext_only.iloc[n_train:(n_train + n_test)]\n",
    "itext_only_test = itext_only.iloc[(n_train + n_test):]\n",
    "\n",
    "itext_only_train.to_csv('INDI/text_only_train.tsv', sep='\\t', index=None)\n",
    "itext_only_dev.to_csv('INDI/text_only_dev.tsv', sep='\\t', index=None)\n",
    "itext_only_test.to_csv('INDI/text_only_test.tsv', sep='\\t', index=None)\n",
    "\n",
    "## moved all three .tsv files under bert-classifier/glue-data/INDI"
   ]
  },
  {
   "cell_type": "code",
   "execution_count": 193,
   "metadata": {},
   "outputs": [],
   "source": [
    "# create train/dev/test set for baseline and other models\n",
    "select_col_list = ['desc_clean', 'desc_len', 'goal', 'category_slug', 'label']\n",
    "\n",
    "train_df = id_generate_set(itext_only_train, idata_, 'id', select_col_list)\n",
    "dev_df = id_generate_set(itext_only_dev, idata_, 'id', select_col_list)\n",
    "test_df = id_generate_set(itext_only_test, idata_, 'id', select_col_list)\n",
    "\n",
    "train_df.to_csv('INDI/textandmeta_train.tsv', sep='\\t', index=None)\n",
    "dev_df.to_csv('INDI/textandmeta_dev.tsv', sep='\\t', index=None)\n",
    "test_df.to_csv('INDI/textandmeta_test.tsv', sep='\\t', index=None)"
   ]
  },
  {
   "cell_type": "code",
   "execution_count": null,
   "metadata": {},
   "outputs": [],
   "source": []
  },
  {
   "cell_type": "code",
   "execution_count": null,
   "metadata": {},
   "outputs": [],
   "source": []
  }
 ],
 "metadata": {
  "kernelspec": {
   "display_name": "Python 3",
   "language": "python",
   "name": "python3"
  },
  "language_info": {
   "codemirror_mode": {
    "name": "ipython",
    "version": 3
   },
   "file_extension": ".py",
   "mimetype": "text/x-python",
   "name": "python",
   "nbconvert_exporter": "python",
   "pygments_lexer": "ipython3",
   "version": "3.6.3"
  }
 },
 "nbformat": 4,
 "nbformat_minor": 2
}
